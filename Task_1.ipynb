{
 "cells": [
  {
   "cell_type": "markdown",
   "metadata": {},
   "source": [
    "Problem:\n",
    "\n",
    "Task 1 less than k"
   ]
  },
  {
   "cell_type": "markdown",
   "metadata": {},
   "source": [
    "Given a positive integer “k” and a list of integer numbers, look for the numbers within the list, that are less than k. Consider an appropriate number of qubits and explain why your proposal is valid for all kinds of numbers in case \n",
    "\n",
    "```\n",
    "def less_than_k (int:k, list[int] ,list_n):\n",
    "     \"\"\"\"\"\"\n",
    "     k : integer value that is the positive number to compare in list_n,\n",
    "     list_n : integer list that has positive numbers.\n",
    "     Return the numbers that are in list_n and are less than k \n",
    "     \"\"\"\n",
    "          # use a framework that works with quantum circuits, qiskit, cirq, pennylane, etc. \n",
    "          # consider print your quantum circuit,\n",
    "```\n",
    "\n",
    "Example:\n",
    "\n",
    "A = less_than_k (7,[4,9,11,14,1,13,6,15])\n",
    "print(A)\n",
    "\n",
    "“4,1,6”"
   ]
  },
  {
   "cell_type": "markdown",
   "metadata": {},
   "source": [
    "Terminology:\n",
    "\n",
    "Query:  Values given in the list\n",
    "\n",
    "Key:    Values to be searched in the list"
   ]
  },
  {
   "cell_type": "markdown",
   "metadata": {},
   "source": [
    "### Importing libraries"
   ]
  },
  {
   "cell_type": "markdown",
   "metadata": {},
   "source": [
    "Framework Used: Qiskit"
   ]
  },
  {
   "cell_type": "code",
   "execution_count": 2,
   "metadata": {},
   "outputs": [
    {
     "data": {
      "text/plain": [
       "'1.0.2'"
      ]
     },
     "execution_count": 2,
     "metadata": {},
     "output_type": "execute_result"
    }
   ],
   "source": [
    "import qiskit\n",
    "qiskit.__version__"
   ]
  },
  {
   "cell_type": "code",
   "execution_count": 3,
   "metadata": {},
   "outputs": [
    {
     "data": {
      "text/plain": [
       "'0.22.0'"
      ]
     },
     "execution_count": 3,
     "metadata": {},
     "output_type": "execute_result"
    }
   ],
   "source": [
    "import qiskit_ibm_runtime\n",
    "qiskit_ibm_runtime.__version__"
   ]
  },
  {
   "cell_type": "code",
   "execution_count": 4,
   "metadata": {},
   "outputs": [],
   "source": [
    "import math\n",
    "import numpy as np\n",
    "from random import sample, randint"
   ]
  },
  {
   "cell_type": "code",
   "execution_count": 5,
   "metadata": {},
   "outputs": [],
   "source": [
    "from qiskit import QuantumCircuit\n",
    "from qiskit.quantum_info import Statevector\n",
    "from qiskit.circuit.library import GroverOperator, MCMT, ZGate\n",
    "from qiskit.visualization import plot_distribution\n",
    "from qiskit.transpiler.preset_passmanagers import generate_preset_pass_manager"
   ]
  },
  {
   "cell_type": "code",
   "execution_count": 6,
   "metadata": {},
   "outputs": [],
   "source": [
    "from qiskit_ibm_runtime.fake_provider import FakeCairoV2\n",
    "from qiskit_ibm_runtime import SamplerV2 as Sampler"
   ]
  },
  {
   "cell_type": "code",
   "execution_count": 7,
   "metadata": {},
   "outputs": [
    {
     "data": {
      "text/plain": [
       "'fake_cairo'"
      ]
     },
     "execution_count": 7,
     "metadata": {},
     "output_type": "execute_result"
    }
   ],
   "source": [
    "# init a Fake backend for using a simulated backend for transpilation and running\n",
    "backend = FakeCairoV2()\n",
    "backend.name"
   ]
  },
  {
   "cell_type": "markdown",
   "metadata": {},
   "source": [
    "### Sample Problem Generator"
   ]
  },
  {
   "cell_type": "code",
   "execution_count": 8,
   "metadata": {},
   "outputs": [],
   "source": [
    "def random_test_gen(max_limit, num_samples):\n",
    "    \"\"\"Generates a list of random integers in the range(0, max_limit)\n",
    "    with 'num_samples' elements in the list\n",
    "\n",
    "    Args:\n",
    "        max_limit (int): maximum possible number in the list\n",
    "        num_samples (int): number of samples to be generated\n",
    "\n",
    "    Returns:\n",
    "        test_list (list): list of random integers < max_limit\n",
    "        max_bits (int): number of qubits required in the circuit \n",
    "    \"\"\"\n",
    "    # random sampling \n",
    "    test_list = sample(range(1, max_limit), num_samples)\n",
    "    \n",
    "    # find the maximum element in the list\n",
    "    max_sample = max(test_list)\n",
    "    \n",
    "    # get the number of bits for representing max_in_test\n",
    "    num_bits = len( bin(max_sample)[2:] )\n",
    "    # get the range of solution space (0, 2**num_bits)\n",
    "    max_range = 2**num_bits-1\n",
    "    max_bits = len( bin(max_range)[2:] )\n",
    "    \n",
    "    assert num_bits == max_bits, 'error, num_bits and max_bits are different'\n",
    "    \n",
    "    return test_list, max_bits"
   ]
  },
  {
   "cell_type": "markdown",
   "metadata": {},
   "source": [
    "### Helper functions"
   ]
  },
  {
   "cell_type": "code",
   "execution_count": 9,
   "metadata": {},
   "outputs": [],
   "source": [
    "def generate_binary_states(test_list, max_bits):\n",
    "    \"\"\"Generate list of binary states corresponding to the list of integer states\n",
    "\n",
    "    Args:\n",
    "        test_list (list): list of random integers < max_limit\n",
    "        max_bits (int): number of qubits required in the circuit\n",
    "\n",
    "    Returns:\n",
    "        bin_states: list of corresponding binary states\n",
    "    \"\"\"\n",
    "    bin_states = []\n",
    "    for sample_i in test_list:\n",
    "        # get bin representation of int and store in list\n",
    "        bin_key = bin(sample_i)[2:]\n",
    "        # left-pad with 0 maintains the same number of qubits for all inputs\n",
    "        padded_key = \"0\"*(max_bits-len(bin_key)) + bin_key\n",
    "        \n",
    "        bin_states.append(padded_key)\n",
    "    \n",
    "    return bin_states"
   ]
  },
  {
   "cell_type": "markdown",
   "metadata": {},
   "source": [
    "### State preparation"
   ]
  },
  {
   "cell_type": "code",
   "execution_count": 10,
   "metadata": {},
   "outputs": [],
   "source": [
    "def generate_query_state_vector_from_input(query_list, N):\n",
    "    \"\"\"Initialize the system in equal superposition of the desired \n",
    "    query states given in the input list \n",
    "\n",
    "    Args:\n",
    "        query_list (list): list of positive integers\n",
    "        N (int): total possible states in the system\n",
    "\n",
    "    Returns:\n",
    "        sv: Statevector in superposition of the desired query states\n",
    "    \"\"\"\n",
    "    init_state_amps = np.zeros(N)\n",
    "    # assign equal probability amplitude to all input query states\n",
    "    prob_ampl = np.sqrt(1/len(query_list))\n",
    "    \n",
    "    # generate the Statevector using respective state amplitudes \n",
    "    for q_st in query_list:\n",
    "        init_state_amps[q_st] = prob_ampl\n",
    "        \n",
    "    sv = Statevector(init_state_amps)\n",
    "    \n",
    "    return sv"
   ]
  },
  {
   "cell_type": "markdown",
   "metadata": {},
   "source": [
    "### Grover Oracle"
   ]
  },
  {
   "cell_type": "code",
   "execution_count": 11,
   "metadata": {},
   "outputs": [],
   "source": [
    "def grover_oracle(key_states):\n",
    "    \"\"\"Generate a Grover oracle for (multiple) key states \n",
    "    (where keys are the values to be searched in the input list)\n",
    "\n",
    "    Args:\n",
    "        key_states (list): list of positive integers to be searched in the input\n",
    "        \n",
    "    Returns:\n",
    "        oracle: Grover oracle to search for key states\n",
    "    \"\"\"\n",
    "    num_qubits = len(key_states[0])\n",
    "    \n",
    "    oracle = QuantumCircuit(num_qubits)\n",
    "    \n",
    "    for key in key_states:\n",
    "        # Qiskit bit ordering\n",
    "        reversed_key = key[::-1]\n",
    "        \n",
    "        # find indices of all the '0' bits in the key\n",
    "        zero_indices = [idx for idx in range(num_qubits) if reversed_key.startswith(\"0\", idx)]\n",
    "        if zero_indices == []:\n",
    "            continue\n",
    "        \n",
    "        # add multi controlled Z-gate sandwiched between X-gates \n",
    "        oracle.x(zero_indices)\n",
    "        oracle.compose(MCMT(ZGate(), num_qubits-1, 1), inplace=True)\n",
    "        oracle.x(zero_indices)\n",
    "        \n",
    "    return oracle"
   ]
  },
  {
   "cell_type": "markdown",
   "metadata": {},
   "source": [
    "### Merged flow"
   ]
  },
  {
   "cell_type": "code",
   "execution_count": 12,
   "metadata": {},
   "outputs": [],
   "source": [
    "def less_than_k (k, list_n, max_bits):\n",
    "    \"\"\"\n",
    "    Args:\n",
    "        k (int): integer value that is the positive number to compare in list_n\n",
    "        list_n (list): integer list that has positive numbers\n",
    "        max_bits (int): Max number of qubits used\n",
    "        \n",
    "    Returns:\n",
    "        result (list): Return the numbers that are in list_n and are less than k \n",
    "    \"\"\"\n",
    "\n",
    "    query_list = list_n\n",
    "    \n",
    "    # Grover search only gives advantage if number of keys to be searched\n",
    "    # is less than half the number of input queries due to amplitude amplification\n",
    "\n",
    "    # Generate key_list of positive integers to be searched\n",
    "    # set flag if k exceeds the limit\n",
    "    # if flip_flag is True, \n",
    "    # then select the minimum instead of maximum probabilities to get the solution\n",
    "    flip_flag = 0\n",
    "\n",
    "    if (k-1) >= ((2**max_bits)/2):\n",
    "        print('num of Key is greater than half the num of Queries')\n",
    "        flip_flag = 1\n",
    "        key_list = [i for i in range(k, 2**max_bits)]\n",
    "    else:\n",
    "        key_list = [i for i in range(0, k)]\n",
    "        \n",
    "        \n",
    "    # generate binary representation of positive numbers in the list\n",
    "\n",
    "    query_states = generate_binary_states(query_list, max_bits)\n",
    "    print(\"Query states: \\n\", query_states)\n",
    "\n",
    "    key_states = generate_binary_states(key_list, max_bits)\n",
    "    print(\"Key states: \\n\", key_states)\n",
    "\n",
    "\n",
    "    N = 2** max_bits\n",
    "    # State preparation\n",
    "    query_state_init = generate_query_state_vector_from_input(query_list, N)\n",
    "    \n",
    "    # Generate Grover oracle\n",
    "    # key_states = [\"011\", \"100\"]\n",
    "    oracle = grover_oracle(key_states)\n",
    "    oracle.draw(output=\"mpl\", style=\"iqp\")\n",
    "    \n",
    "    # compose gover operator\n",
    "    grover_op = GroverOperator(oracle)\n",
    "    grover_op.decompose().draw(output=\"mpl\", style=\"iqp\")\n",
    "\n",
    "    # estimate number of iterations\n",
    "    optimal_num_iter = math.floor(\n",
    "        math.pi / (4* math.asin( (len(key_states) / 2**grover_op.num_qubits) **0.5 ))\n",
    "    )\n",
    "\n",
    "\n",
    "    qc = QuantumCircuit(grover_op.num_qubits)\n",
    "\n",
    "    qc.prepare_state(query_state_init)\n",
    "\n",
    "    qc.compose(grover_op.power(optimal_num_iter), inplace=True)\n",
    "\n",
    "    qc.measure_all()\n",
    "    qc.draw(output=\"mpl\", style=\"iqp\")\n",
    "\n",
    "        \n",
    "    target = backend.target\n",
    "    pm = generate_preset_pass_manager(target=target, optimization_level=3)\n",
    "\n",
    "    circuit_isa = pm.run(qc)\n",
    "    # circuit_isa.draw(output=\"mpl\", idle_wires=False, style=\"idp\")\n",
    "\n",
    "    sampler = Sampler(backend=backend)\n",
    "    sampler.options.default_shots = 10_000\n",
    "    result = sampler.run([circuit_isa]).result()\n",
    "    dist = result[0].data.meas.get_counts()\n",
    "\n",
    "    sorted_counts_by_indx = np.zeros(N)\n",
    "    for key, val in dist.items():\n",
    "        # print(key, val)\n",
    "        int_idx =int(key, 2)\n",
    "        # print(int(key, 2))\n",
    "        sorted_counts_by_indx[int_idx] = val\n",
    "    sorted_counts_by_indx\n",
    "\n",
    "    mean_of_distrib = np.percentile(sorted_counts_by_indx, 85)\n",
    "\n",
    "    final_result = np.where(sorted_counts_by_indx >= mean_of_distrib)\n",
    "    final_result = final_result #[0] \n",
    "    final_result #, mean_of_distrib #, prob_distrib\n",
    "    print(final_result, mean_of_distrib)\n",
    "    print(sorted(query_list))\n",
    "    print(key_list)\n",
    "\n",
    "    plot_distribution(dist)\n",
    "    \n",
    "    return final_result"
   ]
  },
  {
   "cell_type": "markdown",
   "metadata": {},
   "source": [
    "### Main"
   ]
  },
  {
   "cell_type": "code",
   "execution_count": 13,
   "metadata": {},
   "outputs": [
    {
     "name": "stdout",
     "output_type": "stream",
     "text": [
      "Query list: \n",
      " [3, 9, 10, 12, 5, 6, 7, 2]\n",
      "Max qubits:  4\n",
      "K:  6\n"
     ]
    }
   ],
   "source": [
    "# max possible integer in the list\n",
    "# N = randint(2, 100)\n",
    "N = 16 \n",
    "\n",
    "\n",
    "# number of samples to generated in the list\n",
    "# num_samples = randint(2,N)\n",
    "num_samples = 8  \n",
    "\n",
    "\n",
    "# generate query_list of positive integers for the problem statement\n",
    "query_list, max_bits = random_test_gen(N, num_samples)\n",
    "print(\"Query list: \\n\", query_list)\n",
    "print(\"Max qubits: \", max_bits)\n",
    "\n",
    "# set the k value of the problem\n",
    "# k = randint(2, max(query_list)-1)\n",
    "k = 6 \n",
    "print(\"K: \", k)\n"
   ]
  },
  {
   "cell_type": "code",
   "execution_count": 15,
   "metadata": {},
   "outputs": [
    {
     "name": "stdout",
     "output_type": "stream",
     "text": [
      "Query states: \n",
      " ['0011', '1001', '1010', '1100', '0101', '0110', '0111', '0010']\n",
      "Key states: \n",
      " ['0000', '0001', '0010', '0011', '0100', '0101']\n",
      "(array([2, 3, 5], dtype=int64),) 738.75\n",
      "[2, 3, 5, 6, 7, 9, 10, 12]\n",
      "[0, 1, 2, 3, 4, 5]\n"
     ]
    }
   ],
   "source": [
    "result = less_than_k(k, query_list, max_bits)"
   ]
  },
  {
   "cell_type": "markdown",
   "metadata": {},
   "source": [
    "References:\n",
    "\n",
    "[1] Deutsch, David, and Richard Jozsa. \"Rapid solution of problems by quantum computation.\" Proceedings of the Royal Society of London. Series A: Mathematical and Physical Sciences 439.1907 (1992): 553-558.\n",
    "\n",
    "[2] Bernstein, Ethan, and Umesh Vazirani. \"Quantum complexity theory.\" SIAM Journal on computing 26.5 (1997): 1411-1473.\n",
    "\n",
    "[3] Grover, Lov K. , \"A fast quantum mechanical algorithm for database search\", Proceedings of the 28th Annual ACM Symposium on the Theory of Computing (1996), arXiv:quant-ph/9605043\n",
    "\n",
    "https://qiskit-community.github.io/qiskit-algorithms/tutorials/06_grover.html#State-preparation"
   ]
  }
 ],
 "metadata": {
  "kernelspec": {
   "display_name": ".venv",
   "language": "python",
   "name": "python3"
  },
  "language_info": {
   "codemirror_mode": {
    "name": "ipython",
    "version": 3
   },
   "file_extension": ".py",
   "mimetype": "text/x-python",
   "name": "python",
   "nbconvert_exporter": "python",
   "pygments_lexer": "ipython3",
   "version": "3.11.7"
  }
 },
 "nbformat": 4,
 "nbformat_minor": 2
}
